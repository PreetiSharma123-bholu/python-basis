{
  "nbformat": 4,
  "nbformat_minor": 0,
  "metadata": {
    "colab": {
      "provenance": []
    },
    "kernelspec": {
      "name": "python3",
      "display_name": "Python 3"
    },
    "language_info": {
      "name": "python"
    }
  },
  "cells": [
    {
      "cell_type": "code",
      "execution_count": null,
      "metadata": {
        "id": "4X4c195UQ1kq"
      },
      "outputs": [],
      "source": []
    },
    {
      "cell_type": "markdown",
      "source": [
        "Python Basics Questions\n",
        "\n",
        "Ques 1-  What is Python, and why is it popular?\n",
        "\n",
        "Ans 1- Python is a high-level, general-purpose programming language known for its simplicity, readability, and versatility.\n",
        "It is popular beacause :-\n",
        ">Simple & Readable\tClean syntax like English; easy for beginners to learn\n",
        "\n",
        ">Wide Use Cases\tUsed in web development, data science, AI, machine learning, automation, etc.\n",
        "\n",
        ">Rich Libraries\tLibraries like NumPy, Pandas, TensorFlow, Flask, Django, etc.\n",
        "\n",
        "Ques 2- What is an interpreter in Python?\n",
        "\n",
        "Ans 2- An interpreter is a program that reads and executes code line by line, rather than compiling the entire code at once.\n",
        "In the case of Python, the Python interpreter takes your .py file and runs it one line at a time, translating Python code into machine code the computer can understand.\n",
        "\n",
        "Ques 3- What are pre-defined keywords in Python?\n",
        "\n",
        "Ans 3- Keywords are reserved words in Python that have special meanings and cannot be used as identifiers (variable names, function names, etc.).\n",
        "Examples of keywords include if, else, while, for, def, class, import, try, except, return, True, False, None, etc.\n",
        "\n",
        "Ques 4- Can keywords be used as variable names?\n",
        "\n",
        "Ans 4- No, keywords cannot be used as variable names in Python.\n",
        "\n",
        "Ques 5- What is mutability in Python?\n",
        "\n",
        "Ans 5- In Python, objects can be either changeable (modifiable) or unchangeable (unchangeable).\n",
        "Mutable objects, such as lists and dictionaries, can be modified after creation.\n",
        "\n",
        "Ques 6- Why are lists mutable, but tuples are immutable?\n",
        "\n",
        "Ans 6- Lists are Mutable because you can modify a list after it's created.\n",
        "Designed to be flexible and dynamic.\n",
        "\n",
        "Tuples are Immutable beacuse you cannot modify a tuple after it's created.\n",
        "Tuples are fixed collections — safe from accidental change.\n",
        "\n",
        "Ques 7- What is the difference between “==” and “is” operators in Python?\n",
        "\n",
        "Ans 7- \"==\"→ Equality Operator\n",
        "\n",
        ">> Checks if two values are equal, even if stored in different memory locations.\n",
        "\n",
        ">> Use == when comparing values (what things are).\n",
        "\n",
        "\"is\" → Identity Operator\n",
        "\n",
        ">>Checks if two variables refer to the exact same object in memory.\n",
        "\n",
        ">>Use is when checking identity (whether they are the same object).\n",
        "\n",
        "Ques 8- What are logical operators in Python?\n",
        "\n",
        "Ans 8- Logical operators in Python are used to combine conditional statements (i.e., expressions that return True or False).\n",
        "Types of Logical Operators are and,or and not.\n",
        "\n",
        "Ques 9-  What is type casting in Python?\n",
        "\n",
        "Ans 9- Type casting, also referred to as type conversion, is the process of changing one data type to another in Python.\n",
        "\n",
        "Ques 10- What is the difference between implicit and explicit type casting?\n",
        "\n",
        "Ans 10- 1. Implicit Type Casting (Automatic):-\n",
        "\n",
        ">>Python does it automatically\n",
        "\n",
        ">>Happens when converting smaller to larger or compatible types\n",
        "\n",
        "2. Explicit Type Casting (Manual):-\n",
        "\n",
        ">>Done by the programmer using functions like int(), float(), str(), etc.\n",
        "\n",
        ">>Required when you want to force conversion or when types are incompatible.\n",
        "\n",
        "Ques 11-  What is the purpose of conditional statements in Python?\n",
        "\n",
        "Ans 11- Conditional statements are used to make decisions in a Python program based on certain conditions.\n",
        "\n",
        "Types of Conditional Statements in Python\n",
        "\n",
        "if-\tExecutes a block if the condition is true\n",
        "\n",
        "elif-\tChecks more conditions if previous ones fail\n",
        "\n",
        "else-\tExecutes if none of the above conditions are true\n",
        "\n",
        "Ques 12- How does the elif statement work?\n",
        "\n",
        "Ans 12- The elif statement (short for “else if”) is used to check multiple conditions after the initial if condition has failed.Used between if and else\n",
        "Allows checking more than one condition in sequence\n",
        "Only the first True condition runs, the rest are skipped.\n",
        "\n",
        "Ques 13- What is the difference between for and while loops?\n",
        "\n",
        "Ans 13- for Loop\n",
        "\n",
        ">>Used when you know in advance how many times to loop.\n",
        "\n",
        ">>Ideal for iterating over a sequence (like a list, string, range, etc.)\n",
        "\n",
        "while Loop\n",
        "\n",
        ">>Used when the number of iterations is not known in advance.\n",
        "\n",
        ">>Keeps running as long as the condition is True.\n",
        "\n",
        "Ques 14-  Describe a scenario where a while loop is more suitable than a for loop.\n",
        "\n",
        "Ans 14- Imagine you want to keep asking a user to enter a positive number. You do not know how many attempts they will need, so you keep prompting until they enter a valid number.\n",
        "You don’t know beforehand how many times the loop will run.\n",
        "The loop should continue until a condition is met (valid input), which could be any number of attempts.\n"
      ],
      "metadata": {
        "id": "2wFADjjQRVMm"
      }
    },
    {
      "cell_type": "code",
      "source": [
        "#Practical Questions\n",
        "#Ques 1- Write a Python program to print \"Hello, World!\"\n",
        "print(\"hello, world!\")"
      ],
      "metadata": {
        "colab": {
          "base_uri": "https://localhost:8080/"
        },
        "id": "Zr1Cdcvqfp6l",
        "outputId": "615ad0f9-42af-46b5-fb01-42cc4baae490"
      },
      "execution_count": 1,
      "outputs": [
        {
          "output_type": "stream",
          "name": "stdout",
          "text": [
            "hello, world!\n"
          ]
        }
      ]
    },
    {
      "cell_type": "code",
      "source": [
        "#Ques 2- Write a Python program that displays your name and age.\n",
        "print(\"my name is balkrishan\")\n",
        "print(\"i am 19 years old\")"
      ],
      "metadata": {
        "colab": {
          "base_uri": "https://localhost:8080/"
        },
        "id": "IhU1rbhEiJEf",
        "outputId": "8704ffa1-1465-4195-841a-ef1b84fc3e63"
      },
      "execution_count": 38,
      "outputs": [
        {
          "output_type": "stream",
          "name": "stdout",
          "text": [
            "my name is balkrishan\n",
            "i am 19 years old\n"
          ]
        }
      ]
    },
    {
      "cell_type": "code",
      "source": [
        "#Ques 3- Write code to print all the pre-defined keywords in Python using the keyword library.\n",
        "import keyword\n",
        "keywords = keyword.kwlist\n",
        "print(\"Python Keywords:\")\n",
        "for kw in keywords:\n",
        "    print(kw)\n"
      ],
      "metadata": {
        "colab": {
          "base_uri": "https://localhost:8080/"
        },
        "id": "bm_39AvZi9VP",
        "outputId": "acef8688-6b77-42a6-e3ea-168cb3c96965"
      },
      "execution_count": 5,
      "outputs": [
        {
          "output_type": "stream",
          "name": "stdout",
          "text": [
            "Python Keywords:\n",
            "False\n",
            "None\n",
            "True\n",
            "and\n",
            "as\n",
            "assert\n",
            "async\n",
            "await\n",
            "break\n",
            "class\n",
            "continue\n",
            "def\n",
            "del\n",
            "elif\n",
            "else\n",
            "except\n",
            "finally\n",
            "for\n",
            "from\n",
            "global\n",
            "if\n",
            "import\n",
            "in\n",
            "is\n",
            "lambda\n",
            "nonlocal\n",
            "not\n",
            "or\n",
            "pass\n",
            "raise\n",
            "return\n",
            "try\n",
            "while\n",
            "with\n",
            "yield\n"
          ]
        }
      ]
    },
    {
      "cell_type": "code",
      "source": [
        "#Ques 4- Write a program that checks if a given word is a Python keyword.\n",
        "word = input(\"Enter a word: \")\n",
        "if keyword.iskeyword(word):\n",
        "    print(\"It is a Python keyword.\")\n",
        "else:\n",
        "    print(\"It is NOT a Python keyword.\")"
      ],
      "metadata": {
        "colab": {
          "base_uri": "https://localhost:8080/"
        },
        "id": "lK5f-z57kXxa",
        "outputId": "f034cf5b-c7ae-40c4-8767-6ba9f1bc6477"
      },
      "execution_count": 8,
      "outputs": [
        {
          "output_type": "stream",
          "name": "stdout",
          "text": [
            "Enter a word: while\n",
            "It is a Python keyword.\n"
          ]
        }
      ]
    },
    {
      "cell_type": "code",
      "source": [
        "'''Ques 5-  Create a list and tuple in Python, and demonstrate how attempting to change an element works differently\n",
        "for each.\n",
        "'''\n",
        "my_list = [10, 20, 30]\n",
        "my_tuple = (10, 20, 30)\n",
        "\n",
        "print(\"Original list:\", my_list)\n",
        "my_list[1] = 200\n",
        "print(\"Modified list:\", my_list)\n",
        "\n",
        "print(\"Original tuple:\", my_tuple)\n",
        "my_tuple[1] = 200  # This will raise an error\n"
      ],
      "metadata": {
        "colab": {
          "base_uri": "https://localhost:8080/",
          "height": 228
        },
        "id": "sW-xy65JmDci",
        "outputId": "b42373c1-6f5c-4b26-ce02-24948f874b8b"
      },
      "execution_count": 9,
      "outputs": [
        {
          "output_type": "stream",
          "name": "stdout",
          "text": [
            "Original list: [10, 20, 30]\n",
            "Modified list: [10, 200, 30]\n",
            "Original tuple: (10, 20, 30)\n"
          ]
        },
        {
          "output_type": "error",
          "ename": "TypeError",
          "evalue": "'tuple' object does not support item assignment",
          "traceback": [
            "\u001b[0;31m---------------------------------------------------------------------------\u001b[0m",
            "\u001b[0;31mTypeError\u001b[0m                                 Traceback (most recent call last)",
            "\u001b[0;32m/tmp/ipython-input-9-2707290924.py\u001b[0m in \u001b[0;36m<cell line: 0>\u001b[0;34m()\u001b[0m\n\u001b[1;32m     10\u001b[0m \u001b[0;34m\u001b[0m\u001b[0m\n\u001b[1;32m     11\u001b[0m \u001b[0mprint\u001b[0m\u001b[0;34m(\u001b[0m\u001b[0;34m\"Original tuple:\"\u001b[0m\u001b[0;34m,\u001b[0m \u001b[0mmy_tuple\u001b[0m\u001b[0;34m)\u001b[0m\u001b[0;34m\u001b[0m\u001b[0;34m\u001b[0m\u001b[0m\n\u001b[0;32m---> 12\u001b[0;31m \u001b[0mmy_tuple\u001b[0m\u001b[0;34m[\u001b[0m\u001b[0;36m1\u001b[0m\u001b[0;34m]\u001b[0m \u001b[0;34m=\u001b[0m \u001b[0;36m200\u001b[0m  \u001b[0;31m# This will raise an error\u001b[0m\u001b[0;34m\u001b[0m\u001b[0;34m\u001b[0m\u001b[0m\n\u001b[0m",
            "\u001b[0;31mTypeError\u001b[0m: 'tuple' object does not support item assignment"
          ]
        }
      ]
    },
    {
      "cell_type": "code",
      "source": [
        "#Ques 6-  Write a function to demonstrate the behavior of mutable and immutable arguments.\n",
        "def modify_arguments(number, items):\n",
        "    # number is immutable (int)\n",
        "    number += 10\n",
        "    print(\"Inside function - number:\", number)\n",
        "\n",
        "    # items is mutable (list)\n",
        "    items.append(\"new item\")\n",
        "    print(\"Inside function - list:\", items)\n",
        "\n",
        "# Main variables\n",
        "num = 5\n",
        "my_list = [\"apple\", \"banana\"]\n",
        "\n",
        "# Call the function\n",
        "modify_arguments(num, my_list)\n",
        "\n",
        "# Check values after function call\n",
        "print(\"\\nOutside function - number:\", num)\n",
        "print(\"Outside function - list:\", my_list)\n"
      ],
      "metadata": {
        "colab": {
          "base_uri": "https://localhost:8080/"
        },
        "id": "G7Vqa17ArRSF",
        "outputId": "c95784b2-b025-43d5-d0db-90de70a7ed09"
      },
      "execution_count": 10,
      "outputs": [
        {
          "output_type": "stream",
          "name": "stdout",
          "text": [
            "Inside function - number: 15\n",
            "Inside function - list: ['apple', 'banana', 'new item']\n",
            "\n",
            "Outside function - number: 5\n",
            "Outside function - list: ['apple', 'banana', 'new item']\n"
          ]
        }
      ]
    },
    {
      "cell_type": "code",
      "source": [
        "#Ques 7- Write a program that performs basic arithmetic operations on two user-input numbers.\n",
        "num1 = float(input(\"Enter the first number: \"))\n",
        "num2 = float(input(\"Enter the second number: \"))\n",
        "\n",
        "print(\"\\n--- Arithmetic Operations ---\")\n",
        "print(f\"Addition: {num1} + {num2} = {num1 + num2}\")\n",
        "print(f\"Subtraction: {num1} - {num2} = {num1 - num2}\")\n",
        "\n",
        "\n",
        "\n",
        "\n"
      ],
      "metadata": {
        "colab": {
          "base_uri": "https://localhost:8080/"
        },
        "id": "y4AZgTC2sFi2",
        "outputId": "14036d8c-1359-4de6-f528-9b3e2374c8c9"
      },
      "execution_count": 13,
      "outputs": [
        {
          "output_type": "stream",
          "name": "stdout",
          "text": [
            "Enter the first number: 23\n",
            "Enter the second number: 21\n",
            "\n",
            "--- Arithmetic Operations ---\n",
            "Addition: 23.0 + 21.0 = 44.0\n",
            "Subtraction: 23.0 - 21.0 = 2.0\n"
          ]
        }
      ]
    },
    {
      "cell_type": "code",
      "source": [
        "#Ques 8-  Write a program to demonstrate the use of logical operators.\n",
        "age = int(input(\"Enter your age: \"))\n",
        "has_id = input(\"Do you have a valid ID? (yes/no): \").lower()\n",
        "\n",
        "id_valid = has_id == \"yes\"\n",
        "\n",
        "if age >= 18 and id_valid:\n",
        "    print(\" You are allowed to enter.\")\n",
        "\n",
        "elif age >= 18 or id_valid:\n",
        "    print(\" Entry requires both valid age and ID.\")\n",
        "\n",
        "elif not id_valid:\n",
        "    print(\" You must carry a valid ID.\")\n",
        "\n",
        "else:\n",
        "    print(\" Entry denied.\")\n"
      ],
      "metadata": {
        "colab": {
          "base_uri": "https://localhost:8080/"
        },
        "id": "fskfdSEbtpWv",
        "outputId": "e06ea6ba-71e2-49db-c09f-6646936d6e47"
      },
      "execution_count": 14,
      "outputs": [
        {
          "output_type": "stream",
          "name": "stdout",
          "text": [
            "Enter your age: 23\n",
            "Do you have a valid ID? (yes/no): no\n",
            " Entry requires both valid age and ID.\n"
          ]
        }
      ]
    },
    {
      "cell_type": "code",
      "source": [
        "#Ques 9- Write a Python program to convert user input from string to integer, float, and boolean types\n",
        "value = input(\"Enter a value: \")\n",
        "\n",
        "# Convert to integer\n",
        "print(\"As Integer:\", int(value))\n",
        "\n",
        "# Convert to float\n",
        "print(\"As Float:\", float(value))\n",
        "\n",
        "# Convert to boolean\n",
        "print(\"As Boolean:\", bool(value))\n"
      ],
      "metadata": {
        "colab": {
          "base_uri": "https://localhost:8080/"
        },
        "id": "X2TlDbUIug8n",
        "outputId": "6786b9f0-c3c7-468b-b359-8e5b8845615d"
      },
      "execution_count": 15,
      "outputs": [
        {
          "output_type": "stream",
          "name": "stdout",
          "text": [
            "Enter a value: 23\n",
            "As Integer: 23\n",
            "As Float: 23.0\n",
            "As Boolean: True\n"
          ]
        }
      ]
    },
    {
      "cell_type": "code",
      "source": [
        "#Ques 10- Write code to demonstrate type casting with list elements.\n",
        "# List of strings\n",
        "string_list = [\"1\", \"2\", \"3\", \"4\"]\n",
        "\n",
        "# Convert all elements to integers\n",
        "int_list = [int(x) for x in string_list]\n",
        "\n",
        "print(\"Integer list:\", int_list)\n"
      ],
      "metadata": {
        "colab": {
          "base_uri": "https://localhost:8080/"
        },
        "id": "kO2BXyMDvD1f",
        "outputId": "fd9d4c85-0c87-4f9c-aeaa-1fe40e9e552d"
      },
      "execution_count": 16,
      "outputs": [
        {
          "output_type": "stream",
          "name": "stdout",
          "text": [
            "Integer list: [1, 2, 3, 4]\n"
          ]
        }
      ]
    },
    {
      "cell_type": "code",
      "source": [
        "#Ques 11-  Write a program that checks if a number is positive, negative, or zero.\n",
        "num = float(input(\"enter a number :\"))\n",
        "if num > 0:\n",
        "  print(\"positive\")\n",
        "elif num < o:\n",
        "    print(\"negative\")\n",
        "else:\n",
        "      print(\"zero\")"
      ],
      "metadata": {
        "colab": {
          "base_uri": "https://localhost:8080/"
        },
        "id": "OILWTHxZv0--",
        "outputId": "78790774-fa0b-4c60-ab00-5dcbbee4968c"
      },
      "execution_count": 27,
      "outputs": [
        {
          "output_type": "stream",
          "name": "stdout",
          "text": [
            "enter a number :3.8\n",
            "positive\n"
          ]
        }
      ]
    },
    {
      "cell_type": "code",
      "source": [
        "#Ques 12- Write a for loop to print numbers from 1 to 10.\n",
        "for i in range(1, 11):\n",
        "    print(i)\n"
      ],
      "metadata": {
        "colab": {
          "base_uri": "https://localhost:8080/"
        },
        "id": "yr4_Y67lxx4Y",
        "outputId": "e6e935e7-3a7d-48a0-b798-9211d422d870"
      },
      "execution_count": 28,
      "outputs": [
        {
          "output_type": "stream",
          "name": "stdout",
          "text": [
            "1\n",
            "2\n",
            "3\n",
            "4\n",
            "5\n",
            "6\n",
            "7\n",
            "8\n",
            "9\n",
            "10\n"
          ]
        }
      ]
    },
    {
      "cell_type": "code",
      "source": [
        "#Ques 13- Write a Python program to find the sum of all even numbers between 1 and 50.\n",
        "sum_even = 0\n",
        "\n",
        "for i in range(2, 51, 2):  # Start from 2, go up to 50, step by 2\n",
        "    sum_even += i\n",
        "\n",
        "print(\"Sum of even numbers from 1 to 50 is:\", sum_even)\n"
      ],
      "metadata": {
        "colab": {
          "base_uri": "https://localhost:8080/"
        },
        "id": "dBzgLSXKyLeR",
        "outputId": "00fd47f6-af5b-460a-ddf3-a148161193b3"
      },
      "execution_count": 29,
      "outputs": [
        {
          "output_type": "stream",
          "name": "stdout",
          "text": [
            "Sum of even numbers from 1 to 50 is: 650\n"
          ]
        }
      ]
    },
    {
      "cell_type": "code",
      "source": [
        "#Ques 14- Write a program to reverse a string using a while loop.\n",
        "text = input(\"Enter a string: \")\n",
        "\n",
        "reversed_text = \"\"\n",
        "index = len(text) - 1\n",
        "\n",
        "while index >= 0:\n",
        "    reversed_text += text[index]\n",
        "    index -= 1\n",
        "\n",
        "print(\"Reversed string:\", reversed_text)\n"
      ],
      "metadata": {
        "colab": {
          "base_uri": "https://localhost:8080/"
        },
        "id": "kR0W9w7MycNh",
        "outputId": "88cfedb5-18f6-4d57-a7b0-3e101105ca79"
      },
      "execution_count": 30,
      "outputs": [
        {
          "output_type": "stream",
          "name": "stdout",
          "text": [
            "Enter a string: \"preeti\"\n",
            "Reversed string: \"iteerp\"\n"
          ]
        }
      ]
    },
    {
      "cell_type": "code",
      "source": [
        "#Ques 15- Write a Python program to calculate the factorial of a number provided by the user using a while loop.\n",
        "num = int(input(\"Enter a number: \"))\n",
        "\n",
        "fact = 1\n",
        "i = 1\n",
        "\n",
        "while i <= num:\n",
        "    fact = fact * i\n",
        "    i = i + 1\n",
        "\n",
        "print(\"Factorial is:\", fact)\n"
      ],
      "metadata": {
        "colab": {
          "base_uri": "https://localhost:8080/"
        },
        "id": "nxP-REHgzCy-",
        "outputId": "bdc8398d-bc23-4103-995c-c3c2677c961e"
      },
      "execution_count": 37,
      "outputs": [
        {
          "output_type": "stream",
          "name": "stdout",
          "text": [
            "Enter a number: 2\n",
            "Factorial is: 2\n"
          ]
        }
      ]
    },
    {
      "cell_type": "markdown",
      "source": [],
      "metadata": {
        "id": "Coet8v9KRTjn"
      }
    }
  ]
}